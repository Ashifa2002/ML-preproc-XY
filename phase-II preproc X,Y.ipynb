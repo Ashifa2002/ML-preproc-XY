{
 "cells": [
  {
   "cell_type": "code",
   "execution_count": 11,
   "id": "d55cc5b7-7af8-42a2-a50a-f2f84e743254",
   "metadata": {},
   "outputs": [],
   "source": [
    "import pickle\n",
    "import pandas as pd"
   ]
  },
  {
   "cell_type": "code",
   "execution_count": 12,
   "id": "1cc90927-b6ac-4b83-bf6e-7203d763ebc2",
   "metadata": {},
   "outputs": [],
   "source": [
    "dataset=pd.read_csv(\"50_Startups.csv\")\n",
    "dataset=pd.get_dummies(dataset,drop_first=True,dtype='int')\n",
    "independent=dataset[['R&D Spend', 'Administration', 'Marketing Spend','State_Florida', 'State_New York']]\n",
    "dependent=dataset[['Profit']]\n",
    "from sklearn.model_selection import train_test_split #train and test set split\n",
    "x_train,x_test,y_train,y_test=train_test_split(independent,dependent,test_size=0.30,random_state=0)\n",
    "from sklearn.preprocessing import StandardScaler\n",
    "scx=StandardScaler()\n",
    "x_train=scx.fit_transform(x_train)\n",
    "x_test=scx.transform(x_test)\n"
   ]
  },
  {
   "cell_type": "code",
   "execution_count": 13,
   "id": "98059f46-9518-4ed6-addc-147c3d11ecf0",
   "metadata": {},
   "outputs": [],
   "source": [
    "scy=StandardScaler()\n",
    "y_train=scy.fit_transform(y_train)\n",
    "y_test=scy.transform(y_test)"
   ]
  },
  {
   "cell_type": "code",
   "execution_count": 14,
   "id": "2d7a4f7c-5963-4ae6-95e6-9e53b20b24c4",
   "metadata": {},
   "outputs": [
    {
     "name": "stderr",
     "output_type": "stream",
     "text": [
      "C:\\Anaconda3\\Lib\\site-packages\\sklearn\\base.py:493: UserWarning: X does not have valid feature names, but StandardScaler was fitted with feature names\n",
      "  warnings.warn(\n"
     ]
    }
   ],
   "source": [
    "preinput=scx.transform([[27000,30000,400,1,0]])"
   ]
  },
  {
   "cell_type": "code",
   "execution_count": 15,
   "id": "8011a926-4464-4112-a108-9d1d1ba83277",
   "metadata": {},
   "outputs": [
    {
     "data": {
      "text/plain": [
       "array([-0.98254864])"
      ]
     },
     "execution_count": 15,
     "metadata": {},
     "output_type": "execute_result"
    }
   ],
   "source": [
    "loaded_model=pickle.load(open('Final_model_on_SVM.sav','rb'))\n",
    "result=loaded_model.predict(preinput)\n",
    "result"
   ]
  },
  {
   "cell_type": "code",
   "execution_count": 16,
   "id": "62bd724d-0a56-4fd3-aa64-6fe6ca30edd7",
   "metadata": {},
   "outputs": [
    {
     "data": {
      "text/plain": [
       "array([[67963.19002846]])"
      ]
     },
     "execution_count": 16,
     "metadata": {},
     "output_type": "execute_result"
    }
   ],
   "source": [
    "preoutput=scy.inverse_transform([result])\n",
    "preoutput"
   ]
  },
  {
   "cell_type": "code",
   "execution_count": null,
   "id": "7dcb8afa-6566-4eb0-9f3b-c3ed8bc7fef1",
   "metadata": {},
   "outputs": [],
   "source": []
  }
 ],
 "metadata": {
  "kernelspec": {
   "display_name": "Python 3 (ipykernel)",
   "language": "python",
   "name": "python3"
  },
  "language_info": {
   "codemirror_mode": {
    "name": "ipython",
    "version": 3
   },
   "file_extension": ".py",
   "mimetype": "text/x-python",
   "name": "python",
   "nbconvert_exporter": "python",
   "pygments_lexer": "ipython3",
   "version": "3.12.4"
  }
 },
 "nbformat": 4,
 "nbformat_minor": 5
}
